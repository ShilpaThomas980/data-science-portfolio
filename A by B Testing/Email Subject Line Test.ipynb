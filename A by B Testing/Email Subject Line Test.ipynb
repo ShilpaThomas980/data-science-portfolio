{
 "cells": [
  {
   "cell_type": "markdown",
   "id": "0c9f3850-a6ae-4fe7-878c-e9942e51a406",
   "metadata": {},
   "source": [
    "A/B Testing email subject lines"
   ]
  },
  {
   "cell_type": "code",
   "execution_count": 1,
   "id": "d1a9b550-a8e7-4f93-ab53-0048412480b6",
   "metadata": {},
   "outputs": [],
   "source": [
    "# import libraries\n",
    "import numpy as np\n",
    "import pandas as pd\n",
    "import matplotlib.pyplot as plt\n",
    "from scipy import stats"
   ]
  },
  {
   "cell_type": "code",
   "execution_count": 2,
   "id": "07cf6e2b-7806-44ea-88cc-9e38f09e092d",
   "metadata": {},
   "outputs": [],
   "source": [
    "# Simulate Email campaign data\n",
    "np.random.seed(123)"
   ]
  },
  {
   "cell_type": "code",
   "execution_count": 3,
   "id": "bf98b636-dd46-4021-b8b0-6f12138bc784",
   "metadata": {},
   "outputs": [],
   "source": [
    "n_emails = 1000"
   ]
  },
  {
   "cell_type": "code",
   "execution_count": 4,
   "id": "390f53be-1cef-41fc-8a68-2a50c9eba6b3",
   "metadata": {},
   "outputs": [],
   "source": [
    "# Subject Line A- Open Rate: 18%\n",
    "group_A = pd.DataFrame({\n",
    "    'group':'A',\n",
    "    'opened':np.random.binomial(1, 0.18, n_emails)\n",
    "})"
   ]
  },
  {
   "cell_type": "code",
   "execution_count": 5,
   "id": "c322df89-3c5c-4882-89ba-ea418077fbe9",
   "metadata": {},
   "outputs": [],
   "source": [
    "# Subject Line B- Open Rate: 22%\n",
    "group_B = pd.DataFrame({\n",
    "    'group':'B',\n",
    "    'opened':np.random.binomial(1, 0.22, n_emails)\n",
    "})"
   ]
  },
  {
   "cell_type": "code",
   "execution_count": 6,
   "id": "2a7ea74c-9093-40b5-8a0e-3469f8aaeaa6",
   "metadata": {},
   "outputs": [],
   "source": [
    "# data combine\n",
    "data = pd.concat([group_A, group_B])"
   ]
  },
  {
   "cell_type": "code",
   "execution_count": 7,
   "id": "2c45e765-6a08-4849-95b4-2e8c54a0e0e7",
   "metadata": {},
   "outputs": [
    {
     "name": "stdout",
     "output_type": "stream",
     "text": [
      "Summary Statistics:\n",
      "        Open Rate  Total Opens  Total Sent\n",
      "group                                    \n",
      "A          0.179          179        1000\n",
      "B          0.236          236        1000\n"
     ]
    }
   ],
   "source": [
    "# Summary statistics\n",
    "summary = data.groupby('group')['opened'].agg(['mean', 'sum', 'count'])\n",
    "summary.columns = ['Open Rate', 'Total Opens', 'Total Sent']\n",
    "print('Summary Statistics:\\n', summary)"
   ]
  },
  {
   "cell_type": "code",
   "execution_count": 8,
   "id": "ef9c6258-56b4-4450-8261-f6f73daac030",
   "metadata": {},
   "outputs": [
    {
     "data": {
      "image/png": "[encoded data removed]",
      "text/plain": [
       "<Figure size 640x480 with 1 Axes>"
      ]
     },
     "metadata": {},
     "output_type": "display_data"
    }
   ],
   "source": [
    "# Visualize\n",
    "summary['Open Rate'].plot(kind='bar', color=['orange', 'purple'], \n",
    "                         title='Email Open Rate by Subject Line')\n",
    "plt.ylabel('Open Rate')\n",
    "plt.xlabel('Subject Line Group')\n",
    "plt.show()"
   ]
  },
  {
   "cell_type": "code",
   "execution_count": 9,
   "id": "606b7161-79a8-4954-a706-6d57cf05d949",
   "metadata": {},
   "outputs": [],
   "source": [
    "# Statistical Test-ChiSquared\n",
    "contingency = pd.crosstab(data['group'], data['opened'])\n",
    "chi2, p, dof, expected = stats.chi2_contingency(contingency)"
   ]
  },
  {
   "cell_type": "code",
   "execution_count": 10,
   "id": "38cb2193-578e-452b-bd75-02db0815fac7",
   "metadata": {},
   "outputs": [
    {
     "name": "stdout",
     "output_type": "stream",
     "text": [
      "\n",
      "Chi-Squared Test Results:\n",
      "Chi2: 9.5352\n",
      "P-Value: 0.0020\n",
      "Conclusion: Significant Difference\n"
     ]
    }
   ],
   "source": [
    "print(\"\\nChi-Squared Test Results:\")\n",
    "print(f\"Chi2: {chi2:.4f}\")\n",
    "print(f\"P-Value: {p:.4f}\")\n",
    "print(\"Conclusion:\", \"Significant Difference\" if p<0.05 else \"No significant difference\")"
   ]
  },
  {
   "cell_type": "markdown",
   "id": "da36c199-17a0-46d0-ab03-92da3d1ccb24",
   "metadata": {},
   "source": [
    "RESULT\n",
    "- p-value < 0.05, we conclude the difference is statistically significant.\n",
    "- Subject line B performs signifacntly better than A at increasing email open rates"
   ]
  },
  {
   "cell_type": "code",
   "execution_count": null,
   "id": "02b2f685-bd0a-468e-abe0-1de8e5e49aaa",
   "metadata": {},
   "outputs": [],
   "source": []
  }
 ],
 "metadata": {
  "kernelspec": {
   "display_name": "Python 3 (ipykernel)",
   "language": "python",
   "name": "python3"
  },
  "language_info": {
   "codemirror_mode": {
    "name": "ipython",
    "version": 3
   },
   "file_extension": ".py",
   "mimetype": "text/x-python",
   "name": "python",
   "nbconvert_exporter": "python",
   "pygments_lexer": "ipython3",
   "version": "3.12.7"
  }
 },
 "nbformat": 4,
 "nbformat_minor": 5
}
