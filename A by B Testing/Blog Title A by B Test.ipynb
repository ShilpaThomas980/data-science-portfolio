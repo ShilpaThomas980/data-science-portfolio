{
 "cells": [
  {
   "cell_type": "markdown",
   "id": "ffe05e8a-2598-41b0-b30b-600d44ce232c",
   "metadata": {},
   "source": [
    "Blog Title A/B Test\n",
    "- Pageviews - how many users viewed the article\n",
    "- Bounce Rate - % of users who left the page without doing anything"
   ]
  },
  {
   "cell_type": "markdown",
   "id": "bec91dad-4e6d-440c-a75a-4b18c9e67b8f",
   "metadata": {},
   "source": [
    "I am testing..\n",
    "- Version A: \"10 Tips for Better Sleep\"\n",
    "- Version B: \"Improve your Sleep with these 10 simple habits\""
   ]
  },
  {
   "cell_type": "markdown",
   "id": "aaa8cad5-8ff5-40df-95e8-208f5b502429",
   "metadata": {},
   "source": [
    "I also want to analyse\n",
    "- Which title got more pageviews\n",
    "- Which one had a lower bounce rate"
   ]
  },
  {
   "cell_type": "code",
   "execution_count": 1,
   "id": "73b5e84b-1134-4688-9e41-ce0dc09d3576",
   "metadata": {},
   "outputs": [],
   "source": [
    "# import libraries\n",
    "import numpy as np\n",
    "import pandas as pd\n",
    "import seaborn as sns\n",
    "import matplotlib.pyplot as plt\n",
    "from scipy.stats import ttest_ind, chi2_contingency"
   ]
  },
  {
   "cell_type": "code",
   "execution_count": 2,
   "id": "0d11e12d-eaad-4e89-9309-8eaf80771910",
   "metadata": {},
   "outputs": [],
   "source": [
    "# Simulate data\n",
    "np.random.seed(42)\n",
    "n=1000\n",
    "data=pd.DataFrame({\n",
    "    'user_id':range(1, n+1),\n",
    "    'title_version': np.random.choice(['A', 'B'], size=n)\n",
    "})"
   ]
  },
  {
   "cell_type": "code",
   "execution_count": 3,
   "id": "dc163657-7668-4cbd-a56e-c36d1dc38ad1",
   "metadata": {},
   "outputs": [],
   "source": [
    "data['pageview'] = 1  # all are views since it's a blog test"
   ]
  },
  {
   "cell_type": "code",
   "execution_count": 4,
   "id": "2738938d-d59f-4b7f-98f8-d03c52f9e799",
   "metadata": {},
   "outputs": [],
   "source": [
    "# simulate bounce rate (1=bounced, 0=stayed)\n",
    "def simulate_bounce(row):\n",
    "    if row['title_version'] == 'A':\n",
    "        return np.random.rand() < 0.55\n",
    "    else:\n",
    "        return np.random.rand() < 0.45\n",
    "data['bounced'] = data.apply(simulate_bounce, axis=1).astype(int)"
   ]
  },
  {
   "cell_type": "code",
   "execution_count": 5,
   "id": "3ee4cda3-2673-47ab-b680-4191dce3475b",
   "metadata": {},
   "outputs": [],
   "source": [
    "data['time_on_page'] = data['bounced'].apply(lambda x: np.random.normal(20, 5) if x else np.random.normal(80, 15))\n"
   ]
  },
  {
   "cell_type": "code",
   "execution_count": 6,
   "id": "bd237da2-9aef-4575-a5d1-7c60c79ec28a",
   "metadata": {},
   "outputs": [
    {
     "name": "stdout",
     "output_type": "stream",
     "text": [
      "Summary:\n",
      "                Users  Bounce Rate  Total Bounces  Avg Time on Page\n",
      "title_version                                                     \n",
      "A                490     0.548980            269         46.804553\n",
      "B                510     0.439216            224         54.381959\n"
     ]
    }
   ],
   "source": [
    "# Analyze Data\n",
    "summary = data.groupby('title_version').agg({\n",
    "    'user_id': 'count',\n",
    "    'bounced': ['mean', 'sum'],\n",
    "    'time_on_page': 'mean'\n",
    "})\n",
    "summary.columns = ['Users', 'Bounce Rate', 'Total Bounces', 'Avg Time on Page']\n",
    "print(\"Summary:\\n\", summary)"
   ]
  },
  {
   "cell_type": "code",
   "execution_count": 7,
   "id": "f8b5edfe-c363-4bbd-9a50-425db6587a6c",
   "metadata": {},
   "outputs": [],
   "source": [
    "contingency = pd.crosstab(data['title_version'], data['bounced'])\n",
    "chi2, p_chi, _, _ = chi2_contingency(contingency)"
   ]
  },
  {
   "cell_type": "code",
   "execution_count": 8,
   "id": "c803b5fb-09a4-4927-acab-ed050341d7de",
   "metadata": {},
   "outputs": [],
   "source": [
    "# T test for time on page\n",
    "group_A_time = data[data['title_version'] == \"A\"]['time_on_page']\n",
    "group_B_time = data[data['title_version'] == \"B\"]['time_on_page']\n",
    "t_stat, p_ttest = ttest_ind(group_A_time, group_B_time)"
   ]
  },
  {
   "cell_type": "code",
   "execution_count": 9,
   "id": "6c0acee0-e2f5-4e0a-9b64-d160592913ed",
   "metadata": {},
   "outputs": [
    {
     "name": "stdout",
     "output_type": "stream",
     "text": [
      "\n",
      "Chi-square Test for Bounce Rate:\n",
      "Chi2 = 11.6105, p = 0.0007\n",
      "Bounce Rate Significant? Yes\n",
      "\n",
      "T-Test for Time on Page:\n",
      "t = -3.7604, p = 0.0002\n",
      "Time on Page Difference Significant? Yes\n"
     ]
    }
   ],
   "source": [
    "print(f\"\\nChi-square Test for Bounce Rate:\\nChi2 = {chi2:.4f}, p = {p_chi:.4f}\")\n",
    "print(\"Bounce Rate Significant?\" , \"Yes\" if p_chi < 0.05 else \"No\")\n",
    "\n",
    "print(f\"\\nT-Test for Time on Page:\\nt = {t_stat:.4f}, p = {p_ttest:.4f}\")\n",
    "print(\"Time on Page Difference Significant?\", \"Yes\" if p_ttest < 0.05 else \"No\")"
   ]
  },
  {
   "cell_type": "code",
   "execution_count": null,
   "id": "ea147edf-b3cc-4801-90cb-0888e7fce990",
   "metadata": {},
   "outputs": [],
   "source": []
  }
 ],
 "metadata": {
  "kernelspec": {
   "display_name": "Python 3 (ipykernel)",
   "language": "python",
   "name": "python3"
  },
  "language_info": {
   "codemirror_mode": {
    "name": "ipython",
    "version": 3
   },
   "file_extension": ".py",
   "mimetype": "text/x-python",
   "name": "python",
   "nbconvert_exporter": "python",
   "pygments_lexer": "ipython3",
   "version": "3.12.7"
  }
 },
 "nbformat": 4,
 "nbformat_minor": 5
}
