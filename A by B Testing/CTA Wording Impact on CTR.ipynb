{
 "cells": [
  {
   "cell_type": "markdown",
   "id": "2a289a6f-98a5-449d-87fe-c081c1383069",
   "metadata": {},
   "source": [
    "A/B Test – Call to Action (CTA) Wording"
   ]
  },
  {
   "cell_type": "code",
   "execution_count": 1,
   "id": "15fc8789-e4c7-4de9-96ac-a7d42647d33d",
   "metadata": {},
   "outputs": [],
   "source": [
    "# import libraries\n",
    "import numpy as np\n",
    "import pandas as pd\n",
    "import seaborn as sns\n",
    "import matplotlib.pyplot as plt\n",
    "from scipy.stats import chi2_contingency\n",
    "import statsmodels.api as sm\n",
    "import statsmodels.formula.api as smf"
   ]
  },
  {
   "cell_type": "code",
   "execution_count": 2,
   "id": "67e986dc-6086-4adc-91ca-de92083cb2d0",
   "metadata": {},
   "outputs": [],
   "source": [
    "# simulate data\n",
    "np.random.seed(2025)\n",
    "n=1200"
   ]
  },
  {
   "cell_type": "code",
   "execution_count": 3,
   "id": "861cd279-15f1-47f0-b3a9-55b5f36c22cf",
   "metadata": {},
   "outputs": [],
   "source": [
    "data = pd.DataFrame({\n",
    "    'user_id': range(1, n+1),\n",
    "    'cta_group':np.random.choice(['Buy Now', 'Get Started'], size=n),\n",
    "    'device_type':np.random.choice(['desktop', 'mobile'], size=n),\n",
    "    'time_on_page':np.random.normal(60, 15, size=n)\n",
    "})"
   ]
  },
  {
   "cell_type": "code",
   "execution_count": 4,
   "id": "1d527fce-4f3a-4e26-a95a-d210cdf4df5b",
   "metadata": {},
   "outputs": [],
   "source": [
    "# Simulate clicks (Did they click the button?)\n",
    "def simulate_click(row):\n",
    "    base_prob = 0.10 if row['cta_group'] == 'Buy Now' else 0.14\n",
    "    base_prob += 0.03 if row['device_type'] == 'desktop' else 0\n",
    "    base_prob += 0.001 * (row['time_on_page'] - 60)\n",
    "    return np.random.rand() < base_prob"
   ]
  },
  {
   "cell_type": "markdown",
   "id": "0b835b35-5ba8-43e1-9b2c-fde824a82694",
   "metadata": {},
   "source": [
    "- People seeing “Get Started” are a bit more likely to click\n",
    "- People on desktop might click more\n",
    "- If they spend more time, they might also click more"
   ]
  },
  {
   "cell_type": "code",
   "execution_count": 5,
   "id": "0af25d9b-8be4-4f88-976f-f3b0a1073622",
   "metadata": {},
   "outputs": [],
   "source": [
    "# apply this for each user\n",
    "data['clicked'] = data.apply(simulate_click, axis=1).astype(int)"
   ]
  },
  {
   "cell_type": "code",
   "execution_count": 6,
   "id": "9a246d50-716c-4de6-80b4-0a383370398e",
   "metadata": {},
   "outputs": [
    {
     "name": "stdout",
     "output_type": "stream",
     "text": [
      "Summary Statistics:\n",
      "              Percent of Clicks  Total Clicks  Total User\n",
      "cta_group                                               \n",
      "Buy Now               0.110390            68         616\n",
      "Get Started           0.138699            81         584\n"
     ]
    }
   ],
   "source": [
    "# Show basic stats\n",
    "summary = data.groupby('cta_group')['clicked'].agg(['mean', 'sum', 'count'])\n",
    "summary.columns = ['Percent of Clicks', 'Total Clicks', 'Total User']\n",
    "print(\"Summary Statistics:\\n\", summary)"
   ]
  },
  {
   "cell_type": "markdown",
   "id": "438417b9-a99a-424b-ab5a-8fe9e510a75a",
   "metadata": {},
   "source": [
    "This tells us:\n",
    "- What percent of users in each group clicked the button\n",
    "- How many total clicks\n",
    "- How many users saw each version"
   ]
  },
  {
   "cell_type": "code",
   "execution_count": 7,
   "id": "81e706c8-e116-45d0-bd2c-3b2a25ed9a67",
   "metadata": {},
   "outputs": [
    {
     "name": "stderr",
     "output_type": "stream",
     "text": [
      "C:\\Users\\shilpa\\AppData\\Local\\Temp\\ipykernel_1156\\3953087902.py:2: FutureWarning: \n",
      "\n",
      "The `ci` parameter is deprecated. Use `errorbar=('ci', 95)` for the same effect.\n",
      "\n",
      "  sns.barplot(x='cta_group',\n",
      "C:\\Users\\shilpa\\AppData\\Local\\Temp\\ipykernel_1156\\3953087902.py:2: FutureWarning: \n",
      "\n",
      "Passing `palette` without assigning `hue` is deprecated and will be removed in v0.14.0. Assign the `x` variable to `hue` and set `legend=False` for the same effect.\n",
      "\n",
      "  sns.barplot(x='cta_group',\n"
     ]
    },
    {
     "data": {
      "image/png": "[encoded data removed]",
      "text/plain": [
       "<Figure size 640x480 with 1 Axes>"
      ]
     },
     "metadata": {},
     "output_type": "display_data"
    }
   ],
   "source": [
    "# Draw the chart\n",
    "sns.barplot(x='cta_group',\n",
    "           y='clicked',\n",
    "           data=data,\n",
    "           ci=95,\n",
    "           palette='coolwarm')\n",
    "plt.title('Click Through Rate by CTA Wording')\n",
    "plt.ylabel('Click Through Rate')\n",
    "plt.xlabel('CTA Wording')\n",
    "plt.show()"
   ]
  },
  {
   "cell_type": "markdown",
   "id": "0c301678-1871-47bd-968a-39228b24adaf",
   "metadata": {},
   "source": [
    "- This draws a bar chart comparing click rates for “Buy Now” vs “Get Started”"
   ]
  },
  {
   "cell_type": "code",
   "execution_count": 8,
   "id": "855f7ee8-7194-472d-bfe7-765c3a8e672b",
   "metadata": {},
   "outputs": [
    {
     "name": "stdout",
     "output_type": "stream",
     "text": [
      "Chi-Squared Test: \n",
      "Chi2 = 1.9566, p-value = 0.1619\n",
      "Significant difference?  no\n"
     ]
    }
   ],
   "source": [
    "# Test if the Difference is Real (Chi-Square)\n",
    "contingency = pd.crosstab(data['cta_group'], data['clicked'])\n",
    "chi2, p, dof, expected = chi2_contingency(contingency)\n",
    "print(\"Chi-Squared Test: \")\n",
    "print(f\"Chi2 = {chi2:.4f}, p-value = {p:.4f}\")\n",
    "print(\"Significant difference? \", \"yes\" if p<0.05 else \"no\")"
   ]
  },
  {
   "cell_type": "markdown",
   "id": "cedc7d53-1595-4c2a-849a-400363c0c71d",
   "metadata": {},
   "source": [
    "- statistical test to see if the difference in clicks between the two CTAs is just luck or real.\n",
    "- If the p-value is less than 0.05 → the difference is probably real (statistically significant)."
   ]
  },
  {
   "cell_type": "code",
   "execution_count": 9,
   "id": "9f2aabad-991a-4351-8ff1-a88c7caf8304",
   "metadata": {},
   "outputs": [
    {
     "name": "stdout",
     "output_type": "stream",
     "text": [
      "Optimization terminated successfully.\n",
      "         Current function value: 0.371493\n",
      "         Iterations 6\n",
      "                           Logit Regression Results                           \n",
      "==============================================================================\n",
      "Dep. Variable:                clicked   No. Observations:                 1200\n",
      "Model:                          Logit   Df Residuals:                     1196\n",
      "Method:                           MLE   Df Model:                            3\n",
      "Date:                Tue, 27 May 2025   Pseudo R-squ.:                0.009735\n",
      "Time:                        16:23:19   Log-Likelihood:                -445.79\n",
      "converged:                       True   LL-Null:                       -450.17\n",
      "Covariance Type:            nonrobust   LLR p-value:                   0.03259\n",
      "===============================================================================================\n",
      "                                  coef    std err          z      P>|z|      [0.025      0.975]\n",
      "-----------------------------------------------------------------------------------------------\n",
      "Intercept                      -2.8111      0.390     -7.200      0.000      -3.576      -2.046\n",
      "C(cta_group)[T.Get Started]     0.2703      0.176      1.534      0.125      -0.075       0.616\n",
      "C(device_type)[T.mobile]       -0.1980      0.177     -1.117      0.264      -0.545       0.149\n",
      "time_on_page                    0.0131      0.006      2.298      0.022       0.002       0.024\n",
      "===============================================================================================\n"
     ]
    }
   ],
   "source": [
    "# Logistic Regression\n",
    "model = smf.logit(\"clicked ~ C(cta_group) + C(device_type) + time_on_page\", data=data).fit()\n",
    "print(model.summary())"
   ]
  },
  {
   "cell_type": "markdown",
   "id": "64ec8f1f-6598-4252-9743-e96a03e8c05b",
   "metadata": {},
   "source": [
    "RESULT\n",
    "- \"Get Started\" performed slightly better than \"Buy Now\", but the difference is not statistically significant (p = 0.125)."
   ]
  }
 ],
 "metadata": {
  "kernelspec": {
   "display_name": "Python 3 (ipykernel)",
   "language": "python",
   "name": "python3"
  },
  "language_info": {
   "codemirror_mode": {
    "name": "ipython",
    "version": 3
   },
   "file_extension": ".py",
   "mimetype": "text/x-python",
   "name": "python",
   "nbconvert_exporter": "python",
   "pygments_lexer": "ipython3",
   "version": "3.12.7"
  }
 },
 "nbformat": 4,
 "nbformat_minor": 5
}
