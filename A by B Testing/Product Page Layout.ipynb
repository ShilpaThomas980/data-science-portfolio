{
 "cells": [
  {
   "cell_type": "markdown",
   "id": "0fbf98ef-0f9a-4ef3-9e6e-f82d39d402fb",
   "metadata": {},
   "source": [
    "- A/B Testing for Product Page Layout\n",
    "- Data - Sample data"
   ]
  },
  {
   "cell_type": "code",
   "execution_count": 1,
   "id": "920ce2ad-ef43-494e-825e-85be8c1cd523",
   "metadata": {},
   "outputs": [],
   "source": [
    "# import libraries\n",
    "import numpy as np\n",
    "import pandas as pd\n",
    "import seaborn as sns\n",
    "import matplotlib.pyplot as plt\n",
    "import statsmodels.api as sm\n",
    "import statsmodels.formula.api as smf"
   ]
  },
  {
   "cell_type": "code",
   "execution_count": 2,
   "id": "a2796acf-a17d-4476-b7bf-bd97e47e20fd",
   "metadata": {},
   "outputs": [],
   "source": [
    "# Simulate data\n",
    "np.random.seed(42)\n",
    "n=1000"
   ]
  },
  {
   "cell_type": "code",
   "execution_count": 4,
   "id": "06cda5b1-79b4-4189-8009-f84ad64698f9",
   "metadata": {},
   "outputs": [],
   "source": [
    "data = pd.DataFrame({\n",
    "    \"user_id\":np.arange(1, n+1),\n",
    "    \"group\": np.random.choice(['A', 'B'], size=n),\n",
    "    \"device_type\": np.random.choice(['desktop', 'mobile'], size=n),\n",
    "    \"time_on_page\": np.random.normal(45, 10, size=n)\n",
    "})"
   ]
  },
  {
   "cell_type": "code",
   "execution_count": 5,
   "id": "7c00ff37-6ec0-4a1c-8b27-51792e1c3982",
   "metadata": {},
   "outputs": [],
   "source": [
    "# Simulate add_to_cart with dependecy on layout and time_on_page\n",
    "def simulate_add_to_cart(row):\n",
    "    base_prob = 0.15 if row['group'] == 'A' else 0.22\n",
    "    base_prob += 0.001 * (row['time_on_page'] - 45)\n",
    "    base_prob += 0.005 if row['device_type'] == 'desktop' else 0\n",
    "    return np.random.rand() < base_prob"
   ]
  },
  {
   "cell_type": "code",
   "execution_count": 7,
   "id": "f9ab12fb-9d1c-4f4b-bd0f-561c209d6789",
   "metadata": {},
   "outputs": [],
   "source": [
    "data['added_to_cart'] = data.apply(simulate_add_to_cart, axis=1).astype(int)"
   ]
  },
  {
   "cell_type": "code",
   "execution_count": 8,
   "id": "08ae892c-350a-46a0-913e-a03659bd1225",
   "metadata": {},
   "outputs": [
    {
     "name": "stdout",
     "output_type": "stream",
     "text": [
      "Add to Cart Rate:\n",
      " group\n",
      "A    0.155102\n",
      "B    0.211765\n",
      "Name: added_to_cart, dtype: float64\n"
     ]
    }
   ],
   "source": [
    "# summary stas\n",
    "summary = data.groupby('group')['added_to_cart'].mean()\n",
    "print(\"Add to Cart Rate:\\n\", summary)"
   ]
  },
  {
   "cell_type": "code",
   "execution_count": 9,
   "id": "114cd143-750a-4188-8064-4657e6f36655",
   "metadata": {},
   "outputs": [
    {
     "name": "stderr",
     "output_type": "stream",
     "text": [
      "C:\\Users\\shilpa\\AppData\\Local\\Temp\\ipykernel_608\\937913979.py:2: FutureWarning: \n",
      "\n",
      "The `ci` parameter is deprecated. Use `errorbar=('ci', 95)` for the same effect.\n",
      "\n",
      "  sns.barplot(data=data,\n",
      "C:\\Users\\shilpa\\AppData\\Local\\Temp\\ipykernel_608\\937913979.py:2: FutureWarning: \n",
      "\n",
      "Passing `palette` without assigning `hue` is deprecated and will be removed in v0.14.0. Assign the `x` variable to `hue` and set `legend=False` for the same effect.\n",
      "\n",
      "  sns.barplot(data=data,\n"
     ]
    },
    {
     "data": {
      "image/png": "[encoded data removed]",
      "text/plain": [
       "<Figure size 640x480 with 1 Axes>"
      ]
     },
     "metadata": {},
     "output_type": "display_data"
    }
   ],
   "source": [
    "# Visualize\n",
    "sns.barplot(data=data,\n",
    "           x='group',\n",
    "           y='added_to_cart',\n",
    "           ci=95,\n",
    "           palette='Set2')\n",
    "plt.title('Add to Cart Rate by Layout')\n",
    "plt.ylabel('Conversion Rate')\n",
    "plt.xlabel('Page Layout')\n",
    "plt.show()"
   ]
  },
  {
   "cell_type": "code",
   "execution_count": 10,
   "id": "730cf143-9901-4364-8853-0589c731ac7f",
   "metadata": {},
   "outputs": [],
   "source": [
    "# Logisitc Regression Model\n",
    "# convert cat variables to cat dtype\n",
    "data['group'] = data['group'].astype('category')\n",
    "data['device_type'] = data['device_type'].astype('category')"
   ]
  },
  {
   "cell_type": "code",
   "execution_count": 11,
   "id": "7f81d452-9ac7-4501-b0e7-5293ef87a10b",
   "metadata": {},
   "outputs": [
    {
     "name": "stdout",
     "output_type": "stream",
     "text": [
      "Optimization terminated successfully.\n",
      "         Current function value: 0.474208\n",
      "         Iterations 6\n",
      "                           Logit Regression Results                           \n",
      "==============================================================================\n",
      "Dep. Variable:          added_to_cart   No. Observations:                 1000\n",
      "Model:                          Logit   Df Residuals:                      996\n",
      "Method:                           MLE   Df Model:                            3\n",
      "Date:                Tue, 27 May 2025   Pseudo R-squ.:                0.006697\n",
      "Time:                        15:56:50   Log-Likelihood:                -474.21\n",
      "converged:                       True   LL-Null:                       -477.40\n",
      "Covariance Type:            nonrobust   LLR p-value:                   0.09391\n",
      "============================================================================================\n",
      "                               coef    std err          z      P>|z|      [0.025      0.975]\n",
      "--------------------------------------------------------------------------------------------\n",
      "Intercept                   -1.9181      0.408     -4.701      0.000      -2.718      -1.118\n",
      "C(group)[T.B]                0.3776      0.165      2.282      0.022       0.053       0.702\n",
      "C(device_type)[T.mobile]    -0.1134      0.164     -0.690      0.490      -0.436       0.209\n",
      "time_on_page                 0.0060      0.008      0.728      0.467      -0.010       0.022\n",
      "============================================================================================\n"
     ]
    }
   ],
   "source": [
    "# Logistic Regression Model\n",
    "model = smf.logit('added_to_cart ~ C(group) + time_on_page + C(device_type)', \n",
    "                 data=data).fit()\n",
    "print(model.summary())"
   ]
  },
  {
   "cell_type": "code",
   "execution_count": 12,
   "id": "f37acd26-29cf-4756-a4da-d4220fbc5f82",
   "metadata": {},
   "outputs": [
    {
     "name": "stdout",
     "output_type": "stream",
     "text": [
      "\n",
      "Interpretation:\n",
      "- Coefficient for C(group)[T.B]: Impact of Layout B vs A\n",
      "- P-value<0.5 -> Statistically significant imapct\n"
     ]
    }
   ],
   "source": [
    "# Interpretation\n",
    "print(\"\\nInterpretation:\")\n",
    "print(\"- Coefficient for C(group)[T.B]: Impact of Layout B vs A\")\n",
    "print(\"- P-value<0.5 -> Statistically significant imapct\")"
   ]
  },
  {
   "cell_type": "markdown",
   "id": "796ea950-7790-47be-80e5-17cebce6fa56",
   "metadata": {},
   "source": [
    "CONCLUSION\n",
    "- Layout B (Text First) leads to a statistically significant increase in the likelihood that a visitor will add the product to their cart compared to Layout A (Image First), when controlling for device type and time spent on page.\n",
    "- Layout B is better at converting visitors to adding products to cart. The effect is statistically significant even when accounting for device and time spent on page. Device type and time don't show significant effects here."
   ]
  },
  {
   "cell_type": "code",
   "execution_count": null,
   "id": "7e00fab7-213d-4fa1-b776-df4ed29d89aa",
   "metadata": {},
   "outputs": [],
   "source": []
  }
 ],
 "metadata": {
  "kernelspec": {
   "display_name": "Python 3 (ipykernel)",
   "language": "python",
   "name": "python3"
  },
  "language_info": {
   "codemirror_mode": {
    "name": "ipython",
    "version": 3
   },
   "file_extension": ".py",
   "mimetype": "text/x-python",
   "name": "python",
   "nbconvert_exporter": "python",
   "pygments_lexer": "ipython3",
   "version": "3.12.7"
  }
 },
 "nbformat": 4,
 "nbformat_minor": 5
}
