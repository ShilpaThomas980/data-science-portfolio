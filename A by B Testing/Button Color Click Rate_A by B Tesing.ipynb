{
 "cells": [
  {
   "cell_type": "code",
   "execution_count": 1,
   "id": "f545b6f9-4185-446f-b4dd-0375f7e604b1",
   "metadata": {},
   "outputs": [],
   "source": [
    "# import libraries\n",
    "import numpy as np\n",
    "import pandas as pd\n",
    "import matplotlib.pyplot as plt\n",
    "from scipy import stats"
   ]
  },
  {
   "cell_type": "code",
   "execution_count": 2,
   "id": "28244bb9-54db-4f72-bd7a-4b0b868a3d8d",
   "metadata": {},
   "outputs": [],
   "source": [
    "# Simulate Data\n",
    "np.random.seed(42)"
   ]
  },
  {
   "cell_type": "code",
   "execution_count": 3,
   "id": "38f46b18-215c-45fe-8056-45ece2d909ec",
   "metadata": {},
   "outputs": [],
   "source": [
    "n_visitors = 1000\n",
    "# A = Blue button group\n",
    "# B = Green button group"
   ]
  },
  {
   "cell_type": "code",
   "execution_count": 4,
   "id": "51343cf5-f73a-4786-bc53-29e96dab2137",
   "metadata": {},
   "outputs": [],
   "source": [
    "# Simulate 1000 users per group\n",
    "group_A = pd.DataFrame({\n",
    "    'group':'A',\n",
    "    'clicked':np.random.binomial(1, 0.12, n_visitors) \n",
    "})"
   ]
  },
  {
   "cell_type": "code",
   "execution_count": 5,
   "id": "8ab9f5bd-a111-4d86-9e4f-82c176cefc25",
   "metadata": {},
   "outputs": [],
   "source": [
    "group_B = pd.DataFrame({\n",
    "    'group':'B',\n",
    "    'clicked':np.random.binomial(1, 0.16, n_visitors)\n",
    "})"
   ]
  },
  {
   "cell_type": "code",
   "execution_count": 6,
   "id": "6d8e66b7-91ce-4398-9a5e-4af019a485d8",
   "metadata": {},
   "outputs": [],
   "source": [
    "# combine\n",
    "data = pd.concat([group_A, group_B])"
   ]
  },
  {
   "cell_type": "code",
   "execution_count": 7,
   "id": "e2e1a98c-84ce-40c1-aa0d-5ada9fe71f1e",
   "metadata": {},
   "outputs": [
    {
     "name": "stdout",
     "output_type": "stream",
     "text": [
      "Summary Statistics:\n",
      "          CTR  Total Clicks  Total Users\n",
      "group                                  \n",
      "A      0.124           124         1000\n",
      "B      0.163           163         1000\n"
     ]
    }
   ],
   "source": [
    "# Summary\n",
    "summary = data.groupby('group')['clicked'].agg(['mean', 'sum', 'count'])\n",
    "summary.columns = ['CTR', 'Total Clicks', 'Total Users']\n",
    "print('Summary Statistics:\\n', summary)"
   ]
  },
  {
   "cell_type": "code",
   "execution_count": 8,
   "id": "ffa50c1f-25d6-4ffb-ba0e-c22fe4791624",
   "metadata": {},
   "outputs": [
    {
     "data": {
      "image/png": "[encoded data removed]",
      "text/plain": [
       "<Figure size 640x480 with 1 Axes>"
      ]
     },
     "metadata": {},
     "output_type": "display_data"
    }
   ],
   "source": [
    "# plot\n",
    "summary['CTR'].plot(kind='bar', color=['blue', 'green'], title='Click Through Rate by Button Color')\n",
    "plt.ylabel('CTR')\n",
    "plt.xlabel('Group')\n",
    "plt.show()"
   ]
  },
  {
   "cell_type": "code",
   "execution_count": 9,
   "id": "df0a8947-1a98-43b7-bfea-41eb0e6f1457",
   "metadata": {},
   "outputs": [],
   "source": [
    "# Statistical Test (Chi-Squared Test)\n",
    "contingency_table = pd.crosstab(data['group'], data['clicked'])\n",
    "chi2, p, dof, expected = stats.chi2_contingency(contingency_table)"
   ]
  },
  {
   "cell_type": "code",
   "execution_count": 10,
   "id": "cb1d735c-22c4-404d-a9cb-192282d91aac",
   "metadata": {},
   "outputs": [
    {
     "name": "stdout",
     "output_type": "stream",
     "text": [
      "\n",
      "Chi-squared Test Results:\n",
      "Contingency Table:\n",
      " clicked    0    1\n",
      "group            \n",
      "A        876  124\n",
      "B        837  163\n",
      "Chi2 Statistic: 5.8743\n",
      "P-Value: 0.0154\n",
      "Statistically Significant Difference? ✅ Yes\n"
     ]
    }
   ],
   "source": [
    "print(\"\\nChi-squared Test Results:\")\n",
    "print(\"Contingency Table:\\n\", contingency_table)\n",
    "print(f\"Chi2 Statistic: {chi2:.4f}\")\n",
    "print(f\"P-Value: {p:.4f}\")\n",
    "print(\"Statistically Significant Difference?\", \"✅ Yes\" if p < 0.05 else \"❌ No\")"
   ]
  },
  {
   "cell_type": "markdown",
   "id": "93bbbebf-56b2-4709-829e-c04a1cd9848c",
   "metadata": {},
   "source": [
    "RESULT\n",
    "- We tested 1,000 users per button. Green button got more clicks, and\n",
    "- the stats say this isn’t just luck — it’s real. You should probably use the green one!"
   ]
  },
  {
   "cell_type": "code",
   "execution_count": null,
   "id": "d49041be-3bc5-4abb-8c3f-59bee7cde1ea",
   "metadata": {},
   "outputs": [],
   "source": []
  }
 ],
 "metadata": {
  "kernelspec": {
   "display_name": "Python 3 (ipykernel)",
   "language": "python",
   "name": "python3"
  },
  "language_info": {
   "codemirror_mode": {
    "name": "ipython",
    "version": 3
   },
   "file_extension": ".py",
   "mimetype": "text/x-python",
   "name": "python",
   "nbconvert_exporter": "python",
   "pygments_lexer": "ipython3",
   "version": "3.12.7"
  }
 },
 "nbformat": 4,
 "nbformat_minor": 5
}
